{
 "cells": [
  {
   "cell_type": "code",
   "execution_count": null,
   "id": "377eadf1",
   "metadata": {},
   "outputs": [],
   "source": [
    "import requests\n",
    "\n",
    "# 'https://fakestoreapi.com/products'\n",
    "# 'https://fakestoreapi.com/users'\n",
    "# 'https://fakestoreapi.com/users/1'\n",
    "\n",
    "# SERVICES\n",
    "def getAll(url):\n",
    "    req = requests.get(url)\n",
    "\n",
    "    if req.status_code == 200:\n",
    "        return req.json()\n",
    "    return \"Error, nao foi possivel.\"\n",
    "\n",
    "\n",
    "def getById(url, id):\n",
    "    req = requests.get(f\"{url}/{id}\")\n",
    "\n",
    "    if req.status_code == 200:\n",
    "        return req.json()\n",
    "    return \"Error, nao foi possivel.\"\n",
    "\n",
    "\n",
    "#getAll(\"https://fakestoreapi.com/products\")\n",
    "#getAll('https://fakestoreapi.com/users')\n",
    "\n",
    "# getById(\"https://fakestoreapi.com/users\", 2)\n",
    "# getById(\"https://fakestoreapi.com/products/\", \"1\")"
   ]
  },
  {
   "cell_type": "code",
   "execution_count": null,
   "id": "cfac8f63",
   "metadata": {},
   "outputs": [],
   "source": [
    "# Criando uma nova lista de nomes\n",
    "def allNames():\n",
    "    api = getAll(\"https://fakestoreapi.com/users\")\n",
    "\n",
    "    lista = []\n",
    "\n",
    "    for i in api:\n",
    "        fullname = f\"{i['name']['firstname']} {i['name']['lastname']}\"\n",
    "        lista.append(fullname)\n",
    "\n",
    "    return lista\n",
    "\n",
    "allNames()"
   ]
  },
  {
   "cell_type": "code",
   "execution_count": null,
   "id": "95ec2776",
   "metadata": {},
   "outputs": [],
   "source": [
    "# Desafio 1 - Criar uma lista  de strings com todos os emails\n",
    "def allEmails():\n",
    "    pass"
   ]
  },
  {
   "cell_type": "code",
   "execution_count": null,
   "id": "722bab95",
   "metadata": {},
   "outputs": [],
   "source": [
    "# Desafio 2 - Cria uma lista de strings com todos os numeros de telefone\n",
    "def allPhones():\n",
    "    pass"
   ]
  },
  {
   "cell_type": "code",
   "execution_count": null,
   "id": "c04c5fa9",
   "metadata": {},
   "outputs": [],
   "source": [
    "# Desafio 3 - Criar uma lista de string com todos os titulos de nome dos produtos\n",
    "def allTitles():\n",
    "    pass "
   ]
  },
  {
   "cell_type": "code",
   "execution_count": null,
   "id": "08189e70",
   "metadata": {},
   "outputs": [],
   "source": [
    "# Desafio 4 - Criar uma lista de dicionario com titulo e preco de todos os produto\n",
    "def allTitlesAndPrices():\n",
    "    pass"
   ]
  },
  {
   "cell_type": "code",
   "execution_count": null,
   "id": "62ab6b7e",
   "metadata": {},
   "outputs": [],
   "source": [
    "# Desafio 5 - Criar uma lista de dicionario com nome completo do usuario e a cidade dele\n",
    "def allNamesAndCities():\n",
    "    pass"
   ]
  },
  {
   "cell_type": "code",
   "execution_count": null,
   "id": "a94e2563",
   "metadata": {},
   "outputs": [],
   "source": [
    "# Desafio 6 - Criar uma lista de dicionarios com titulo e rating de todos os produtos\n",
    "def allRatings():\n",
    "    pass"
   ]
  }
 ],
 "metadata": {
  "kernelspec": {
   "display_name": "Python 3",
   "language": "python",
   "name": "python3"
  },
  "language_info": {
   "codemirror_mode": {
    "name": "ipython",
    "version": 3
   },
   "file_extension": ".py",
   "mimetype": "text/x-python",
   "name": "python",
   "nbconvert_exporter": "python",
   "pygments_lexer": "ipython3",
   "version": "3.13.3"
  }
 },
 "nbformat": 4,
 "nbformat_minor": 5
}
