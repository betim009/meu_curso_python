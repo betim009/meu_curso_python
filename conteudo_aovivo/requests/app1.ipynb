{
 "cells": [
  {
   "cell_type": "code",
   "execution_count": null,
   "id": "377eadf1",
   "metadata": {},
   "outputs": [],
   "source": [
    "import requests\n",
    "\n",
    "# 'https://fakestoreapi.com/products'\n",
    "# 'https://fakestoreapi.com/users'\n",
    "# 'https://fakestoreapi.com/users/1'\n",
    "\n",
    "# SERVICES\n",
    "def getAll(url):\n",
    "    req = requests.get(url)\n",
    "\n",
    "    if req.status_code == 200:\n",
    "        return req.json()\n",
    "    return \"Error, nao foi possivel.\"\n",
    "\n",
    "\n",
    "def getById(url, id):\n",
    "    req = requests.get(f\"{url}/{id}\")\n",
    "\n",
    "    if req.status_code == 200:\n",
    "        return req.json()\n",
    "    return \"Error, nao foi possivel.\"\n",
    "\n",
    "\n",
    "#getAll(\"https://fakestoreapi.com/products\")\n",
    "#getAll('https://fakestoreapi.com/users')\n",
    "\n",
    "# getById(\"https://fakestoreapi.com/users\", 2)\n",
    "# getById(\"https://fakestoreapi.com/products/\", \"1\")"
   ]
  },
  {
   "cell_type": "code",
   "execution_count": null,
   "id": "cfac8f63",
   "metadata": {},
   "outputs": [],
   "source": [
    "# Criando uma nova lista de nomes\n",
    "def allNames():\n",
    "    api = getAll(\"https://fakestoreapi.com/users\")\n",
    "\n",
    "    lista = []\n",
    "\n",
    "    for i in api:\n",
    "        fullname = f\"{i['name']['firstname']} {i['name']['lastname']}\"\n",
    "        lista.append(fullname)\n",
    "\n",
    "    return lista\n",
    "\n",
    "allNames()"
   ]
  },
  {
   "cell_type": "code",
   "execution_count": null,
   "id": "95ec2776",
   "metadata": {},
   "outputs": [],
   "source": [
    "# Desafio 1 - Criar uma lista  de strings com todos os emails\n",
    "def allEmails():\n",
    "    pass"
   ]
  },
  {
   "cell_type": "code",
   "execution_count": null,
   "id": "722bab95",
   "metadata": {},
   "outputs": [],
   "source": [
    "# Desafio 2 - Cria uma lista de strings com todos os numeros de telefone\n",
    "def allPhones():\n",
    "    pass"
   ]
  },
  {
   "cell_type": "code",
   "execution_count": null,
   "id": "c04c5fa9",
   "metadata": {},
   "outputs": [],
   "source": [
    "# Desafio 3 - Criar uma lista de string com todos os titulos de nome dos produtos\n",
    "def allTitles():\n",
    "    pass "
   ]
  },
  {
   "cell_type": "code",
   "execution_count": null,
   "id": "08189e70",
   "metadata": {},
   "outputs": [
    {
     "data": {
      "text/plain": [
       "[{'titulo': 'Fjallraven - Foldsack No. 1 Backpack, Fits 15 Laptops',\n",
       "  'preco': 109.95},\n",
       " {'titulo': 'Mens Casual Premium Slim Fit T-Shirts ', 'preco': 22.3},\n",
       " {'titulo': 'Mens Cotton Jacket', 'preco': 55.99},\n",
       " {'titulo': 'Mens Casual Slim Fit', 'preco': 15.99},\n",
       " {'titulo': \"John Hardy Women's Legends Naga Gold & Silver Dragon Station Chain Bracelet\",\n",
       "  'preco': 695},\n",
       " {'titulo': 'Solid Gold Petite Micropave ', 'preco': 168},\n",
       " {'titulo': 'White Gold Plated Princess', 'preco': 9.99},\n",
       " {'titulo': 'Pierced Owl Rose Gold Plated Stainless Steel Double',\n",
       "  'preco': 10.99},\n",
       " {'titulo': 'WD 2TB Elements Portable External Hard Drive - USB 3.0 ',\n",
       "  'preco': 64},\n",
       " {'titulo': 'SanDisk SSD PLUS 1TB Internal SSD - SATA III 6 Gb/s',\n",
       "  'preco': 109},\n",
       " {'titulo': 'Silicon Power 256GB SSD 3D NAND A55 SLC Cache Performance Boost SATA III 2.5',\n",
       "  'preco': 109},\n",
       " {'titulo': 'WD 4TB Gaming Drive Works with Playstation 4 Portable External Hard Drive',\n",
       "  'preco': 114},\n",
       " {'titulo': 'Acer SB220Q bi 21.5 inches Full HD (1920 x 1080) IPS Ultra-Thin',\n",
       "  'preco': 599},\n",
       " {'titulo': 'Samsung 49-Inch CHG90 144Hz Curved Gaming Monitor (LC49HG90DMNXZA) – Super Ultrawide Screen QLED ',\n",
       "  'preco': 999.99},\n",
       " {'titulo': \"BIYLACLESEN Women's 3-in-1 Snowboard Jacket Winter Coats\",\n",
       "  'preco': 56.99},\n",
       " {'titulo': \"Lock and Love Women's Removable Hooded Faux Leather Moto Biker Jacket\",\n",
       "  'preco': 29.95},\n",
       " {'titulo': 'Rain Jacket Women Windbreaker Striped Climbing Raincoats',\n",
       "  'preco': 39.99},\n",
       " {'titulo': \"MBJ Women's Solid Short Sleeve Boat Neck V \", 'preco': 9.85},\n",
       " {'titulo': \"Opna Women's Short Sleeve Moisture\", 'preco': 7.95},\n",
       " {'titulo': 'DANVOUY Womens T Shirt Casual Cotton Short', 'preco': 12.99}]"
      ]
     },
     "execution_count": 5,
     "metadata": {},
     "output_type": "execute_result"
    }
   ],
   "source": [
    "# Desafio 4 - Criar uma lista de dicionario com titulo e preco de todos os produto\n",
    "import requests\n",
    "\n",
    "def allTitlesAndPrices():\n",
    "    URL = 'https://fakestoreapi.com/products/'\n",
    "    req = requests.get(URL)\n",
    "\n",
    "    resultado = []\n",
    "    if req.status_code == 200:\n",
    "        for i in req.json():\n",
    "            resultado.append({\"titulo\": i['title'], \"preco\": i['price']})\n",
    "\n",
    "\n",
    "    return resultado\n",
    "\n",
    "allTitlesAndPrices()"
   ]
  },
  {
   "cell_type": "code",
   "execution_count": null,
   "id": "62ab6b7e",
   "metadata": {},
   "outputs": [],
   "source": [
    "# Desafio 5 - Criar uma lista de dicionario com nome completo do usuario e a cidade dele\n",
    "def allNamesAndCities():\n",
    "    pass"
   ]
  },
  {
   "cell_type": "code",
   "execution_count": null,
   "id": "a94e2563",
   "metadata": {},
   "outputs": [],
   "source": [
    "# Desafio 6 - Criar uma lista de dicionarios com titulo e rating de todos os produtos\n",
    "def allRatings():\n",
    "    pass"
   ]
  }
 ],
 "metadata": {
  "kernelspec": {
   "display_name": "Python 3",
   "language": "python",
   "name": "python3"
  },
  "language_info": {
   "codemirror_mode": {
    "name": "ipython",
    "version": 3
   },
   "file_extension": ".py",
   "mimetype": "text/x-python",
   "name": "python",
   "nbconvert_exporter": "python",
   "pygments_lexer": "ipython3",
   "version": "3.13.3"
  }
 },
 "nbformat": 4,
 "nbformat_minor": 5
}
