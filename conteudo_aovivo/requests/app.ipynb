{
 "cells": [
  {
   "cell_type": "markdown",
   "id": "529503e9",
   "metadata": {},
   "source": [
    "### Enderecos\n",
    "\n",
    "- Todos os produtos: https://fakestoreapi.com/products\n",
    "\n",
    "- Todos os usuarios: https://fakestoreapi.com/users\n",
    "\n",
    "- Usuario por id (1): https://fakestoreapi.com/users/1\n",
    "\n",
    "- Usuario por id (2): https://fakestoreapi.com/users/2"
   ]
  },
  {
   "cell_type": "code",
   "execution_count": 5,
   "id": "2f0333de",
   "metadata": {},
   "outputs": [],
   "source": [
    "import requests\n",
    "\n",
    "req_products = requests.get('https://fakestoreapi.com/products')\n",
    "req_users = requests.get('https://fakestoreapi.com/users')\n",
    "req_user = requests.get('https://fakestoreapi.com/users/1')"
   ]
  },
  {
   "cell_type": "code",
   "execution_count": null,
   "id": "21cea04b",
   "metadata": {},
   "outputs": [],
   "source": [
    "# Codigo para resgatar todos os produtos\n",
    "if req_products.status_code == 200:\n",
    "    res = req_products.json()\n",
    "\n",
    "    for item in res:\n",
    "        print(item)\n",
    "        print()"
   ]
  },
  {
   "cell_type": "code",
   "execution_count": null,
   "id": "9e740275",
   "metadata": {},
   "outputs": [],
   "source": [
    "# Codigo para resgatar todos os usuarios\n",
    "if req_users.status_code == 200:\n",
    "    res = req_users.json()\n",
    "\n",
    "    for item in res:\n",
    "        print(item)\n",
    "        print()"
   ]
  },
  {
   "cell_type": "code",
   "execution_count": null,
   "id": "44ada7c7",
   "metadata": {},
   "outputs": [],
   "source": [
    "# Resgatar apenas um usuario\n",
    "if req_user.status_code == 200:\n",
    "    res = req_user.json()\n",
    "\n",
    "    print(res)"
   ]
  }
 ],
 "metadata": {
  "kernelspec": {
   "display_name": "Python 3",
   "language": "python",
   "name": "python3"
  },
  "language_info": {
   "codemirror_mode": {
    "name": "ipython",
    "version": 3
   },
   "file_extension": ".py",
   "mimetype": "text/x-python",
   "name": "python",
   "nbconvert_exporter": "python",
   "pygments_lexer": "ipython3",
   "version": "3.13.3"
  }
 },
 "nbformat": 4,
 "nbformat_minor": 5
}
