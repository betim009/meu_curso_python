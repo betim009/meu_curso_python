{
 "cells": [
  {
   "cell_type": "code",
   "execution_count": null,
   "id": "7be0d6ca",
   "metadata": {},
   "outputs": [],
   "source": [
    "agricultores = [\n",
    "    {\"nome\": \"João\", \"cidade\": \"Ibatiba\", \"pes_cafe\": 120},\n",
    "    {\"nome\": \"Maria\", \"cidade\": \"Iúna\", \"pes_cafe\": 350},\n",
    "    {\"nome\": \"José\", \"cidade\": \"Irupi\", \"pes_cafe\": 80},\n",
    "    {\"nome\": \"Ana\", \"cidade\": \"Muniz Freire\", \"pes_cafe\": 600},\n",
    "]"
   ]
  },
  {
   "cell_type": "markdown",
   "id": "fa1a3b74",
   "metadata": {},
   "source": [
    "### Atividades"
   ]
  },
  {
   "cell_type": "markdown",
   "id": "616acb75",
   "metadata": {},
   "source": [
    "**1. Exiba todos os agricultores cadastrados.**"
   ]
  },
  {
   "cell_type": "code",
   "execution_count": null,
   "id": "c6e0e4d5",
   "metadata": {},
   "outputs": [],
   "source": [
    "# 1\n"
   ]
  },
  {
   "cell_type": "markdown",
   "id": "ba92237f",
   "metadata": {},
   "source": [
    "**2. Exiba apenas os nomes dos agricultores.**"
   ]
  },
  {
   "cell_type": "code",
   "execution_count": null,
   "id": "4a92b177",
   "metadata": {},
   "outputs": [],
   "source": [
    "# 2\n"
   ]
  },
  {
   "cell_type": "markdown",
   "id": "d65c9850",
   "metadata": {},
   "source": [
    "**3. Exiba o total de pés de café de todos os agricultores juntos.**"
   ]
  },
  {
   "cell_type": "code",
   "execution_count": null,
   "id": "01cd6cab",
   "metadata": {},
   "outputs": [],
   "source": [
    "# 3\n"
   ]
  },
  {
   "cell_type": "markdown",
   "id": "a267654f",
   "metadata": {},
   "source": [
    "**4. Exiba somente os agricultores com mais de 100 pés de café.**"
   ]
  },
  {
   "cell_type": "code",
   "execution_count": null,
   "id": "d539d27b",
   "metadata": {},
   "outputs": [],
   "source": [
    "# 4\n"
   ]
  },
  {
   "cell_type": "markdown",
   "id": "94f30f4a",
   "metadata": {},
   "source": [
    "**5. Crie uma nova lista apenas com os nomes e pés de café dos agricultores de Ibatiba.**"
   ]
  },
  {
   "cell_type": "code",
   "execution_count": null,
   "id": "6b0819aa",
   "metadata": {},
   "outputs": [],
   "source": [
    "# 5\n"
   ]
  },
  {
   "cell_type": "markdown",
   "id": "ab9265c6",
   "metadata": {},
   "source": [
    "**6. Crie uma nova lista com agricultores classificados como 'pequeno', 'médio' ou 'grande' produtor.**\n",
    "\n",
    "- Até 100 pés: pequeno\n",
    "- 101 a 500 pés: médio\n",
    "- Acima de 500 pés: grande"
   ]
  },
  {
   "cell_type": "code",
   "execution_count": null,
   "id": "62c7f369",
   "metadata": {},
   "outputs": [],
   "source": [
    "# 6\n"
   ]
  },
  {
   "cell_type": "markdown",
   "id": "3288f4e7",
   "metadata": {},
   "source": [
    "**7. Mostre a cidade com o maior total de pés de café somando todos os agricultores daquela cidade.**"
   ]
  },
  {
   "cell_type": "code",
   "execution_count": null,
   "id": "4598e8d0",
   "metadata": {},
   "outputs": [],
   "source": [
    "# 7\n"
   ]
  },
  {
   "cell_type": "markdown",
   "id": "a38d8053",
   "metadata": {},
   "source": [
    "**8. Calcule a média de pés de café por agricultor.**"
   ]
  },
  {
   "cell_type": "code",
   "execution_count": null,
   "id": "668c1a1e",
   "metadata": {},
   "outputs": [],
   "source": [
    "# 8\n"
   ]
  },
  {
   "cell_type": "markdown",
   "id": "66fbd607",
   "metadata": {},
   "source": [
    "**9. Liste os agricultores em ordem decrescente de pés de café.**"
   ]
  },
  {
   "cell_type": "code",
   "execution_count": null,
   "id": "bd466c38",
   "metadata": {},
   "outputs": [],
   "source": [
    "# 9\n"
   ]
  },
  {
   "cell_type": "markdown",
   "id": "27aa58d7",
   "metadata": {},
   "source": [
    "**10. Verifique se existe algum agricultor com mais de 1000 pés de café.**"
   ]
  },
  {
   "cell_type": "code",
   "execution_count": null,
   "id": "68e48b8e",
   "metadata": {},
   "outputs": [],
   "source": [
    "# 10\n"
   ]
  }
 ],
 "metadata": {
  "language_info": {
   "name": "python"
  }
 },
 "nbformat": 4,
 "nbformat_minor": 5
}
