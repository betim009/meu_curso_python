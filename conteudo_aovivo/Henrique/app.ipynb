{
 "cells": [
  {
   "cell_type": "code",
   "execution_count": 13,
   "id": "45fcdda6",
   "metadata": {},
   "outputs": [],
   "source": [
    "pagamentos = [\n",
    "    { \"id\": \"pagamento_1\", \"valor\": 190 },\n",
    "    { \"id\": \"pagamento_2\", \"valor\": 250 },\n",
    "    { \"id\": \"pagamento_3\", \"valor\": 320 },\n",
    "    { \"id\": \"pagamento_4\", \"valor\": 150 },\n",
    "    { \"id\": \"pagamento_5\", \"valor\": 200 }\n",
    "]"
   ]
  },
  {
   "cell_type": "code",
   "execution_count": null,
   "id": "5b30b48a",
   "metadata": {},
   "outputs": [],
   "source": [
    "# Estrutura de Repetição\n",
    "for item in pagamentos:\n",
    "    print(item[\"valor\"])"
   ]
  },
  {
   "cell_type": "code",
   "execution_count": null,
   "id": "d6d5a340",
   "metadata": {},
   "outputs": [],
   "source": [
    "# Estrutura de Repetição com Condicação\n",
    "for item in pagamentos:\n",
    "    if item[\"valor\"] > 200:\n",
    "        print(item[\"valor\"])"
   ]
  },
  {
   "cell_type": "code",
   "execution_count": 18,
   "id": "1230d6d5",
   "metadata": {},
   "outputs": [
    {
     "name": "stdout",
     "output_type": "stream",
     "text": [
      "190 é maior que 0\n",
      "250 é maior que 190\n",
      "320 é maior que 250\n",
      "O maior pagamento é: 320\n"
     ]
    }
   ],
   "source": [
    "# Encontrar o maior Valor de pagamento\n",
    "maior_pagamento = 0\n",
    "for item in pagamentos:\n",
    "    if item[\"valor\"] > maior_pagamento:\n",
    "        print(item[\"valor\"], \"é maior que\", maior_pagamento) # ESTA LINHA E OPCIONAL\n",
    "        maior_pagamento = item[\"valor\"]\n",
    "\n",
    "print(\"O maior pagamento é:\", maior_pagamento)"
   ]
  },
  {
   "cell_type": "code",
   "execution_count": null,
   "id": "94b9b871",
   "metadata": {},
   "outputs": [],
   "source": [
    "# CRIAR UM CODIGO QUE ENCONTRA PAGAMENTOS ABAIXO DE 200"
   ]
  },
  {
   "cell_type": "code",
   "execution_count": 19,
   "id": "6c00a3cf",
   "metadata": {},
   "outputs": [],
   "source": [
    "# CRIAR UM CODIGO PARA ENCONTRAR O MENOR PAGAMENTO"
   ]
  }
 ],
 "metadata": {
  "kernelspec": {
   "display_name": "Python 3",
   "language": "python",
   "name": "python3"
  },
  "language_info": {
   "codemirror_mode": {
    "name": "ipython",
    "version": 3
   },
   "file_extension": ".py",
   "mimetype": "text/x-python",
   "name": "python",
   "nbconvert_exporter": "python",
   "pygments_lexer": "ipython3",
   "version": "3.13.3"
  }
 },
 "nbformat": 4,
 "nbformat_minor": 5
}
