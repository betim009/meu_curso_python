{
 "cells": [
  {
   "cell_type": "code",
   "execution_count": 4,
   "id": "af656753",
   "metadata": {},
   "outputs": [],
   "source": [
    "carros_portugal = [\n",
    "    {\"modelo\": \"Renault Clio\", \"velocidade_maxima\": 185},\n",
    "    {\"modelo\": \"Peugeot 208\", \"velocidade_maxima\": 190},\n",
    "    {\"modelo\": \"Citroën C3\", \"velocidade_maxima\": 188},\n",
    "    {\"modelo\": \"Seat Ibiza\", \"velocidade_maxima\": 195},\n",
    "    {\"modelo\": \"Volkswagen Polo\", \"velocidade_maxima\": 200},\n",
    "    {\"modelo\": \"Fiat Panda\", \"velocidade_maxima\": 160},\n",
    "    {\"modelo\": \"Opel Corsa\", \"velocidade_maxima\": 192},\n",
    "    {\"modelo\": \"Toyota Yaris\", \"velocidade_maxima\": 175},\n",
    "    {\"modelo\": \"Dacia Sandero\", \"velocidade_maxima\": 168},\n",
    "    {\"modelo\": \"Ford Fiesta\", \"velocidade_maxima\": 185},\n",
    "    {\"modelo\": \"Tesla Model 3\", \"velocidade_maxima\": 225},\n",
    "    {\"modelo\": \"Peugeot e-208\", \"velocidade_maxima\": 150},\n",
    "    {\"modelo\": \"Renault Zoe\", \"velocidade_maxima\": 140},\n",
    "    {\"modelo\": \"Volkswagen ID.3\", \"velocidade_maxima\": 160},\n",
    "    {\"modelo\": \"Hyundai Kona Electric\", \"velocidade_maxima\": 167},\n",
    "    {\"modelo\": \"Kia e-Niro\", \"velocidade_maxima\": 167},\n",
    "    {\"modelo\": \"BMW i3\", \"velocidade_maxima\": 150},\n",
    "    {\"modelo\": \"Nissan Leaf\", \"velocidade_maxima\": 157},\n",
    "    {\"modelo\": \"Fiat 500e\", \"velocidade_maxima\": 150},\n",
    "    {\"modelo\": \"Opel Corsa-e\", \"velocidade_maxima\": 150}\n",
    "]"
   ]
  },
  {
   "cell_type": "markdown",
   "id": "f86dd83d",
   "metadata": {},
   "source": [
    "### Atividades\n",
    "\n",
    "**1. Exiba o total de carros dentro da lista `carros_portugal`.**  \n",
    "Exemplo de saída:  \n",
    "`Total de carros: 20`\n",
    "\n",
    "---\n",
    "\n",
    "**2. Acesse o carro da posição 5 (índice 4) e exiba seu nome e velocidade máxima.**  \n",
    "Exemplo de saída:  \n",
    "`Modelo: Volkswagen Polo, Velocidade máxima: 200 km/h`\n",
    "\n",
    "---\n",
    "\n",
    "**3. Acesse os carros das posições 5, 6 e 7 (índices 4, 5 e 6) e exiba seus nomes e velocidades máximas.**  \n",
    "Exemplo de saída:  \n",
    "```\n",
    "Modelo: Volkswagen Polo, Velocidade máxima: 200 km/h\n",
    "Modelo: Fiat Panda, Velocidade máxima: 160 km/h\n",
    "Modelo: Opel Corsa, Velocidade máxima: 192 km/h\n",
    "```\n",
    "\n",
    "---\n",
    "\n",
    "**4. Utilizando uma estrutura de repetição `for`, exiba o nome de todos os carros da lista.**  \n",
    "Exemplo de saída:  \n",
    "```\n",
    "Renault Clio\n",
    "Peugeot 208\n",
    "Citroën C3\n",
    "Seat Ibiza\n",
    "Volkswagen Polo\n",
    "...\n",
    "```\n",
    "\n",
    "---\n",
    "\n",
    "**5. Utilizando uma estrutura de repetição `for`, exiba o nome de todos os carros e suas velocidades máximas.**  \n",
    "Exemplo de saída:  \n",
    "```\n",
    "Renault Clio - 185 km/h\n",
    "Peugeot 208 - 190 km/h\n",
    "Citroën C3 - 188 km/h\n",
    "Seat Ibiza - 195 km/h\n",
    "Volkswagen Polo - 200 km/h\n",
    "...\n",
    "```\n",
    "\n",
    "---\n",
    "\n",
    "**6. Encontre e exiba o carro de maior velocidade máxima da lista.**  \n",
    "Exemplo de saída:  \n",
    "`Carro mais rápido: Tesla Model 3 - 225 km/h`\n",
    "\n",
    "---\n",
    "\n",
    "**7. Exiba todos os carros que possuem velocidade máxima acima de 180 km/h.**  \n",
    "Exemplo de saída:  \n",
    "```\n",
    "Renault Clio - 185 km/h\n",
    "Peugeot 208 - 190 km/h\n",
    "Citroën C3 - 188 km/h\n",
    "Seat Ibiza - 195 km/h\n",
    "Volkswagen Polo - 200 km/h\n",
    "Opel Corsa - 192 km/h\n",
    "Tesla Model 3 - 225 km/h\n",
    "Ford Fiesta - 185 km/h\n",
    "```\n",
    "\n",
    "---\n",
    "\n",
    "**8. Exiba apenas os modelos dos carros elétricos da lista.**  \n",
    "(Considere como elétricos: Tesla Model 3, Peugeot e-208, Renault Zoe, Volkswagen ID.3, Hyundai Kona Electric, Kia e-Niro, BMW i3, Nissan Leaf, Fiat 500e, Opel Corsa-e)  \n",
    "Exemplo de saída:  \n",
    "```\n",
    "Tesla Model 3\n",
    "Peugeot e-208\n",
    "Renault Zoe\n",
    "Volkswagen ID.3\n",
    "Hyundai Kona Electric\n",
    "Kia e-Niro\n",
    "BMW i3\n",
    "Nissan Leaf\n",
    "Fiat 500e\n",
    "Opel Corsa-e\n",
    "```\n",
    "\n",
    "---\n",
    "\n",
    "**9. Calcule e exiba a média das velocidades máximas dos carros da lista.**  \n",
    "Exemplo de saída:  \n",
    "`Média das velocidades máximas: 174.85 km/h`\n",
    "\n",
    "---\n",
    "\n",
    "**10. Exiba todos os carros cujo nome começa com a letra \"F\".**  \n",
    "Exemplo de saída:  \n",
    "```\n",
    "Fiat Panda - 160 km/h\n",
    "Ford Fiesta - 185 km/h\n",
    "Fiat 500e - 150 km/h\n",
    "```"
   ]
  },
  {
   "cell_type": "code",
   "execution_count": 5,
   "id": "acdc7697",
   "metadata": {},
   "outputs": [
    {
     "name": "stdout",
     "output_type": "stream",
     "text": [
      "[{'modelo': 'Renault Clio', 'velocidade_maxima': 185}, {'modelo': 'Peugeot 208', 'velocidade_maxima': 190}, {'modelo': 'Citroën C3', 'velocidade_maxima': 188}, {'modelo': 'Seat Ibiza', 'velocidade_maxima': 195}, {'modelo': 'Volkswagen Polo', 'velocidade_maxima': 200}, {'modelo': 'Fiat Panda', 'velocidade_maxima': 160}, {'modelo': 'Opel Corsa', 'velocidade_maxima': 192}, {'modelo': 'Toyota Yaris', 'velocidade_maxima': 175}, {'modelo': 'Dacia Sandero', 'velocidade_maxima': 168}, {'modelo': 'Ford Fiesta', 'velocidade_maxima': 185}, {'modelo': 'Tesla Model 3', 'velocidade_maxima': 225}, {'modelo': 'Peugeot e-208', 'velocidade_maxima': 150}, {'modelo': 'Renault Zoe', 'velocidade_maxima': 140}, {'modelo': 'Volkswagen ID.3', 'velocidade_maxima': 160}, {'modelo': 'Hyundai Kona Electric', 'velocidade_maxima': 167}, {'modelo': 'Kia e-Niro', 'velocidade_maxima': 167}, {'modelo': 'BMW i3', 'velocidade_maxima': 150}, {'modelo': 'Nissan Leaf', 'velocidade_maxima': 157}, {'modelo': 'Fiat 500e', 'velocidade_maxima': 150}, {'modelo': 'Opel Corsa-e', 'velocidade_maxima': 150}]\n"
     ]
    }
   ],
   "source": [
    "# 1\n",
    "print(carros_portugal)"
   ]
  },
  {
   "cell_type": "code",
   "execution_count": null,
   "id": "ed4d8c0a",
   "metadata": {},
   "outputs": [],
   "source": [
    "# 2"
   ]
  },
  {
   "cell_type": "code",
   "execution_count": null,
   "id": "cc330ba1",
   "metadata": {},
   "outputs": [],
   "source": [
    "# 3"
   ]
  },
  {
   "cell_type": "code",
   "execution_count": null,
   "id": "151d80d6",
   "metadata": {},
   "outputs": [],
   "source": [
    "# 4"
   ]
  }
 ],
 "metadata": {
  "kernelspec": {
   "display_name": "venv",
   "language": "python",
   "name": "python3"
  },
  "language_info": {
   "codemirror_mode": {
    "name": "ipython",
    "version": 3
   },
   "file_extension": ".py",
   "mimetype": "text/x-python",
   "name": "python",
   "nbconvert_exporter": "python",
   "pygments_lexer": "ipython3",
   "version": "3.13.3"
  }
 },
 "nbformat": 4,
 "nbformat_minor": 5
}
