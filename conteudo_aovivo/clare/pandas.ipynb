{
 "cells": [
  {
   "cell_type": "code",
   "execution_count": null,
   "id": "5363fe7a",
   "metadata": {},
   "outputs": [],
   "source": [
    "import pandas as pd\n",
    "import requests\n",
    "\n",
    "def getUsers():\n",
    "    URL = \"https://6884d6b3745306380a3994e2.mockapi.io/users\"\n",
    "    req = requests.get(URL)\n",
    "\n",
    "    return req.json()\n",
    "\n",
    "\n",
    "users = getUsers()\n",
    "df = pd.DataFrame(users)\n",
    "\n",
    "df.to_csv('users.csv')\n"
   ]
  },
  {
   "cell_type": "code",
   "execution_count": null,
   "id": "7afbf277",
   "metadata": {},
   "outputs": [
    {
     "data": {
      "text/plain": [
       "{'createdAt': '2025-07-28T07:27:59.757Z',\n",
       " 'price_purchase': '3000',\n",
       " 'id_user': '12',\n",
       " 'price_current': '6000',\n",
       " 'id_coin': 'id_coin 47',\n",
       " 'id': '47'}"
      ]
     },
     "execution_count": 16,
     "metadata": {},
     "output_type": "execute_result"
    }
   ],
   "source": [
    "import requests\n",
    "\n",
    "def getUsers():\n",
    "    URL = \"https://6884d6b3745306380a3994e2.mockapi.io/users\"\n",
    "    req = requests.get(URL)\n",
    "\n",
    "    return req.json()\n",
    "\n",
    "def get_coins():\n",
    "    URL = \"https://6884d6b3745306380a3994e2.mockapi.io/coins\"\n",
    "    req = requests.get(URL)\n",
    "\n",
    "    return req.json()\n",
    "\n",
    "def get_purchases():\n",
    "    URL = \"https://6884d6b3745306380a3994e2.mockapi.io/purchases\"\n",
    "    req = requests.get(URL)\n",
    "\n",
    "    return req.json()\n",
    "\n",
    "\n",
    "def create_coin(data):\n",
    "    URL = \"https://6884d6b3745306380a3994e2.mockapi.io/coins\"\n",
    "    req = requests.post(URL, data)\n",
    "\n",
    "    return req.json()\n",
    "\n",
    "def create_purchase(data):\n",
    "    URL = \"https://6884d6b3745306380a3994e2.mockapi.io/purchases\"\n",
    "    req = requests.post(URL, data)\n",
    "\n",
    "    return req.json()\n",
    "\n",
    "# create_coin({\n",
    "#     \"name\": \"bit coin\",\n",
    "#     \"current_price\": 6050\n",
    "# })\n",
    "\n",
    "# create_purchase({\n",
    "#     \"price_purchase\": 3000,\n",
    "#     \"id_user\": \"12\",\n",
    "#     \"price_current\": 6000,\n",
    "# })\n",
    "\n"
   ]
  },
  {
   "cell_type": "markdown",
   "id": "14c1c51d",
   "metadata": {},
   "source": [
    "### 1. Task API \n",
    "Precisamos é criar uma FUNCAO que recebe o parametro do ID do usuario e retorne as purchases que ele fez. \n",
    "Deve retornar uma LISTA de Dicionarios. \n",
    "\n",
    "### 2. Task API\n",
    "Criar uma funcao que recebe a lista de dicionarios da TASK 1, e exibir o resultado. \n",
    "\n",
    "### 3. Task API \n",
    "Precisamos é criar uma FUNCAO que recebe o parametro do ID do usuario e retorne as sells que ele fez. \n",
    "Deve retornar uma LISTA de Dicionarios. \n",
    "\n",
    "### 4. Task API\n",
    "Criar uma funcao que recebe a lista de dicionarios da TASK 3, e exibir o resultado. "
   ]
  },
  {
   "cell_type": "code",
   "execution_count": 23,
   "id": "fb45e82d",
   "metadata": {},
   "outputs": [
    {
     "name": "stdout",
     "output_type": "stream",
     "text": [
      "Beth Kerluke\n",
      "Preco atual: 8700 - Preco pago: 6500\n",
      "Preco atual: 6000 - Preco pago: 3000\n"
     ]
    }
   ],
   "source": [
    "import requests\n",
    "\n",
    "def getUserPurchases(id_user):\n",
    "    users = getUsers()\n",
    "    purchases = get_purchases()\n",
    "\n",
    "    user = {}\n",
    "    for i in users:\n",
    "        if i['id'] == id_user:\n",
    "            user = i\n",
    "            break\n",
    "\n",
    "    user['purchases'] = []\n",
    "    for i in purchases:\n",
    "        if i['id_user'] == user['id']:\n",
    "            user['purchases'].append(i)\n",
    "    return user\n",
    "\n",
    "def exibirUserPurchases(id_user):\n",
    "    user = getUserPurchases(id_user)\n",
    "\n",
    "    print(user['name'])\n",
    "    for i in user['purchases']:\n",
    "        print(f\"Preco atual: {i['price_current']} - Preco pago: {i['price_purchase']}\")\n",
    "\n",
    "exibirUserPurchases('12')\n"
   ]
  }
 ],
 "metadata": {
  "kernelspec": {
   "display_name": "Python 3",
   "language": "python",
   "name": "python3"
  },
  "language_info": {
   "codemirror_mode": {
    "name": "ipython",
    "version": 3
   },
   "file_extension": ".py",
   "mimetype": "text/x-python",
   "name": "python",
   "nbconvert_exporter": "python",
   "pygments_lexer": "ipython3",
   "version": "3.13.3"
  }
 },
 "nbformat": 4,
 "nbformat_minor": 5
}
