{
 "cells": [
  {
   "cell_type": "code",
   "execution_count": 3,
   "id": "5363fe7a",
   "metadata": {},
   "outputs": [],
   "source": [
    "import pandas as pd\n",
    "import requests\n",
    "\n",
    "def getUsers():\n",
    "    URL = \"https://6884d6b3745306380a3994e2.mockapi.io/users\"\n",
    "    req = requests.get(URL)\n",
    "\n",
    "    return req.json()\n",
    "\n",
    "\n",
    "users = getUsers()\n",
    "df = pd.DataFrame(users)\n",
    "\n",
    "df.to_csv('users.csv')\n"
   ]
  }
 ],
 "metadata": {
  "kernelspec": {
   "display_name": "Python 3",
   "language": "python",
   "name": "python3"
  },
  "language_info": {
   "codemirror_mode": {
    "name": "ipython",
    "version": 3
   },
   "file_extension": ".py",
   "mimetype": "text/x-python",
   "name": "python",
   "nbconvert_exporter": "python",
   "pygments_lexer": "ipython3",
   "version": "3.13.3"
  }
 },
 "nbformat": 4,
 "nbformat_minor": 5
}
