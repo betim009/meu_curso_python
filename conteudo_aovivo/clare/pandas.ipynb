{
 "cells": [
  {
   "cell_type": "code",
   "execution_count": 4,
   "id": "5363fe7a",
   "metadata": {},
   "outputs": [],
   "source": [
    "import pandas as pd\n",
    "import requests\n",
    "\n",
    "def getUsers():\n",
    "    URL = \"https://6884d6b3745306380a3994e2.mockapi.io/users\"\n",
    "    req = requests.get(URL)\n",
    "\n",
    "    return req.json()\n",
    "\n",
    "\n",
    "users = getUsers()\n",
    "df = pd.DataFrame(users)\n",
    "\n",
    "df.to_csv('users.csv')\n"
   ]
  },
  {
   "cell_type": "code",
   "execution_count": null,
   "id": "7afbf277",
   "metadata": {},
   "outputs": [
    {
     "name": "stdout",
     "output_type": "stream",
     "text": [
      "{'createdAt': '2025-07-25T18:35:30.041Z', 'price_purchase': '3000', 'id_user': '1', 'price_current': '6000', 'id_coin': 'Invalid faker method - random.word', 'id': '2'}\n",
      "{'createdAt': '2025-07-25T23:29:39.531Z', 'price_purchase': '3000', 'id_user': '1', 'price_current': '6000', 'id_coin': 'Invalid faker method - random.word', 'id': '3'}\n",
      "{'createdAt': '2025-07-25T22:20:50.664Z', 'name': 'Todd Cormier', 'id': '1'}\n"
     ]
    }
   ],
   "source": [
    "import requests\n",
    "\n",
    "def getUsers():\n",
    "    URL = \"https://6884d6b3745306380a3994e2.mockapi.io/users\"\n",
    "    req = requests.get(URL)\n",
    "\n",
    "    return req.json()\n",
    "\n",
    "def get_coins():\n",
    "    URL = \"https://6884d6b3745306380a3994e2.mockapi.io/coins\"\n",
    "    req = requests.get(URL)\n",
    "\n",
    "    return req.json()\n",
    "\n",
    "def get_purchases():\n",
    "    URL = \"https://6884d6b3745306380a3994e2.mockapi.io/purchases\"\n",
    "    req = requests.get(URL)\n",
    "\n",
    "    return req.json()\n",
    "\n",
    "\n",
    "def create_coin(data):\n",
    "    URL = \"https://6884d6b3745306380a3994e2.mockapi.io/coins\"\n",
    "    req = requests.post(URL, data)\n",
    "\n",
    "    return req.json()\n",
    "\n",
    "def create_purchase(data):\n",
    "    URL = \"https://6884d6b3745306380a3994e2.mockapi.io/purchases\"\n",
    "    req = requests.post(URL, data)\n",
    "\n",
    "    return req.json()\n",
    "\n",
    "# create_coin({\n",
    "#     \"name\": \"bit coin\",\n",
    "#     \"current_price\": 6050\n",
    "# })\n",
    "\n",
    "# create_purchase({\n",
    "#     \"price_purchase\": 3000,\n",
    "#     \"id_user\": \"1\",\n",
    "#     \"price_current\": 6000,\n",
    "#     \"id\": \"1\"\n",
    "# })\n",
    "\n",
    "users = getUsers()\n",
    "coins = get_coins()\n",
    "purchases = get_purchases()\n",
    "\n",
    "\n",
    "usuario = []\n",
    "\n",
    "for i in purchases:\n",
    "    if i[\"id_user\"] == \"1\":\n",
    "        usuario.append(i)\n",
    "\n",
    "for i in users:\n",
    "    if i[\"id\"] == \"1\":\n",
    "        print(i)\n"
   ]
  }
 ],
 "metadata": {
  "kernelspec": {
   "display_name": "Python 3",
   "language": "python",
   "name": "python3"
  },
  "language_info": {
   "codemirror_mode": {
    "name": "ipython",
    "version": 3
   },
   "file_extension": ".py",
   "mimetype": "text/x-python",
   "name": "python",
   "nbconvert_exporter": "python",
   "pygments_lexer": "ipython3",
   "version": "3.13.3"
  }
 },
 "nbformat": 4,
 "nbformat_minor": 5
}
