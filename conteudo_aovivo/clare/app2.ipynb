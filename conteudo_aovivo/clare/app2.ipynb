{
 "cells": [
  {
   "cell_type": "markdown",
   "id": "dc2b20e0",
   "metadata": {},
   "source": [
    "### Funcoes\n",
    "\n",
    "\n",
    "**Voce deve definir a funcao**\n",
    "\n",
    "**Pode ter parametro(nao eh obrigaorio)**\n",
    "\n",
    "**Pode ter retorno (nao eh obrigaorio)**\n",
    "\n",
    "**Voce deve executar/chamar a funcao**\n",
    "\n",
    "**Lembrar que, exibir/print nao eh retorno**"
   ]
  },
  {
   "cell_type": "code",
   "execution_count": 27,
   "id": "739f7966",
   "metadata": {},
   "outputs": [
    {
     "name": "stdout",
     "output_type": "stream",
     "text": [
      "Hello Clare!\n"
     ]
    }
   ],
   "source": [
    "# Definicao\n",
    "def sayHello():\n",
    "    print(\"Hello Clare!\")\n",
    "\n",
    "\n",
    "# executar/chamar\n",
    "sayHello() "
   ]
  },
  {
   "cell_type": "markdown",
   "id": "080a2880",
   "metadata": {},
   "source": [
    "## Sobre a funcao acima \n",
    "\n",
    "Ela nao retorna nada, ou seja aquele padrao nao eh capaz de salvar a informacao.\n",
    "Falta definir um retorno para a funcao."
   ]
  },
  {
   "cell_type": "code",
   "execution_count": 28,
   "id": "4bd031b4",
   "metadata": {},
   "outputs": [
    {
     "name": "stdout",
     "output_type": "stream",
     "text": [
      "Hello Clare!\n",
      "usando a instancia x: Hello Clare!\n"
     ]
    }
   ],
   "source": [
    "def sayHello():\n",
    "    return \"Hello Clare!\"\n",
    "\n",
    "\n",
    "print(\n",
    "    sayHello()\n",
    ")\n",
    "\n",
    "# INSTANCIA\n",
    "x = sayHello()\n",
    "\n",
    "print('usando a instancia x:', x)\n"
   ]
  },
  {
   "cell_type": "code",
   "execution_count": 29,
   "id": "7236ea57",
   "metadata": {},
   "outputs": [
    {
     "name": "stdout",
     "output_type": "stream",
     "text": [
      "Hello Alberto!\n",
      "Hello Clare!\n"
     ]
    }
   ],
   "source": [
    "def sayHello(name):\n",
    "    return f\"Hello {name}!\"\n",
    "\n",
    "x = sayHello(\"Alberto\")\n",
    "y = sayHello(\"Clare\")\n",
    "\n",
    "print(x)\n",
    "print(y)"
   ]
  },
  {
   "cell_type": "markdown",
   "id": "da536fd5",
   "metadata": {},
   "source": [
    "### Desafios\n",
    "\n",
    "\n",
    "#### Implemente a funcao media\n",
    "```python\n",
    "    def media(nota1, nota2):\n",
    "        pass\n",
    "```\n",
    "\n",
    "Essa funcao deve receber dois numeros inteiros e retornar o valor correto da media.\n",
    "\n",
    "Exemplo da saida: 7\n",
    "\n",
    "#### Implemente a funcao media\n",
    "```python\n",
    "    def media_aluno(nota1, nota2, nome_aluno):\n",
    "        pass\n",
    "```\n",
    "\n",
    "Essa funcao deve receber dois numeros inteiros e uma string com nome do aluno.\n",
    "Deve retornar o valor correto da media e o nome do aluno.\n",
    "\n",
    "Exemplo da saida: 'Clare, 7 media final'"
   ]
  },
  {
   "cell_type": "markdown",
   "id": "64748799",
   "metadata": {},
   "source": [
    "#### Implemente a funcao media_aprovado\n",
    "```python\n",
    "    def media_aprovado(nota1, nota2, nome_aluno):\n",
    "        pass\n",
    "```\n",
    "\n",
    "Essa funcao deve receber dois numeros inteiros e uma string com nome do aluno.\n",
    "Deve calcular a media e depois verificar se a media eh igual ou maior que 6.\n",
    "Caso igual ou maior que 6, deve retornar o nome do aluno e aprovado.\n",
    "Do contrario, nome do aluno e reprovado\n",
    "\n",
    "Exemplo da saida: 'Clare, Aprovado'\n",
    "Exemplo da saida: 'Clare, Reprovado'"
   ]
  }
 ],
 "metadata": {
  "kernelspec": {
   "display_name": "Python 3",
   "language": "python",
   "name": "python3"
  },
  "language_info": {
   "codemirror_mode": {
    "name": "ipython",
    "version": 3
   },
   "file_extension": ".py",
   "mimetype": "text/x-python",
   "name": "python",
   "nbconvert_exporter": "python",
   "pygments_lexer": "ipython3",
   "version": "3.13.3"
  }
 },
 "nbformat": 4,
 "nbformat_minor": 5
}
