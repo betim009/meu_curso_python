{
 "cells": [
  {
   "cell_type": "markdown",
   "id": "01d6a6d1",
   "metadata": {},
   "source": [
    "# CRUD - Funcoes manipular base de dados. \n",
    "\n",
    "## Create\n",
    "Criar novos dados dentro da base de dados.\n",
    "\n",
    "## Read \n",
    "Resgatar alguma informacao da base de dados.\n",
    "\n",
    "## Update\n",
    "Alterar algum dado da base de dados.\n",
    "\n",
    "## Delete\n",
    "Remover algum dado da base de dados."
   ]
  },
  {
   "cell_type": "code",
   "execution_count": 38,
   "id": "b0dee347",
   "metadata": {},
   "outputs": [],
   "source": [
    "depositos = [\n",
    "    {\"id\": 1, \"cliente\": \"Ana\", \"valor\": 1500.00, \"data\": \"2025-07-01\"},\n",
    "    {\"id\": 2, \"cliente\": \"Bruno\", \"valor\": 250.50, \"data\": \"2025-07-02\"},\n",
    "    {\"id\": 3, \"cliente\": \"Carlos\", \"valor\": 3200.00, \"data\": \"2025-07-02\"},\n",
    "    {\"id\": 4, \"cliente\": \"Diana\", \"valor\": 500.00, \"data\": \"2025-07-02\"},\n",
    "    {\"id\": 5, \"cliente\": \"Eduardo\", \"valor\": 100.00, \"data\": \"2025-07-02\"},\n",
    "    {\"id\": 6, \"cliente\": \"Fernanda\", \"valor\": 780.00, \"data\": \"2025-07-06\"},\n",
    "    {\"id\": 7, \"cliente\": \"Gabriel\", \"valor\": 1200.00, \"data\": \"2025-07-07\"},\n",
    "    {\"id\": 8, \"cliente\": \"Helena\", \"valor\": 950.00, \"data\": \"2025-07-08\"},\n",
    "    {\"id\": 9, \"cliente\": \"Igor\", \"valor\": 300.00, \"data\": \"2025-07-09\"},\n",
    "    {\"id\": 10, \"cliente\": \"Julia\", \"valor\": 2000.00, \"data\": \"2025-07-10\"},\n",
    "    {\"id\": 11, \"cliente\": \"Kleber\", \"valor\": 400.00, \"data\": \"2025-07-11\"},\n",
    "    {\"id\": 12, \"cliente\": \"Larissa\", \"valor\": 600.00, \"data\": \"2025-07-12\"},\n",
    "    {\"id\": 13, \"cliente\": \"Marcos\", \"valor\": 850.00, \"data\": \"2025-07-13\"},\n",
    "    {\"id\": 14, \"cliente\": \"Nina\", \"valor\": 1300.00, \"data\": \"2025-07-14\"},\n",
    "    {\"id\": 15, \"cliente\": \"Otavio\", \"valor\": 700.00, \"data\": \"2025-07-15\"},\n",
    "    {\"id\": 16, \"cliente\": \"Paula\", \"valor\": 1100.00, \"data\": \"2025-07-16\"},\n",
    "    {\"id\": 17, \"cliente\": \"Quintino\", \"valor\": 500.00, \"data\": \"2025-07-17\"},\n",
    "    {\"id\": 18, \"cliente\": \"Rafaela\", \"valor\": 900.00, \"data\": \"2025-07-18\"},\n",
    "    {\"id\": 19, \"cliente\": \"Ana\", \"valor\": 1600.00, \"data\": \"2025-07-19\"},\n",
    "    {\"id\": 20, \"cliente\": \"Tatiane\", \"valor\": 2100.00, \"data\": \"2025-07-20\"}\n",
    "]"
   ]
  },
  {
   "cell_type": "markdown",
   "id": "28904138",
   "metadata": {},
   "source": [
    "## Read - Resgatando dados\n",
    "Abaixo funcoes de exemplo para resgatar dados"
   ]
  },
  {
   "cell_type": "code",
   "execution_count": 39,
   "id": "fb966994",
   "metadata": {},
   "outputs": [
    {
     "data": {
      "text/plain": [
       "{'id': 4, 'cliente': 'Diana', 'valor': 500.0, 'data': '2025-07-02'}"
      ]
     },
     "execution_count": 39,
     "metadata": {},
     "output_type": "execute_result"
    }
   ],
   "source": [
    "# Resgatar um deposito por ID\n",
    "def get_deposito_id(id):\n",
    "    for i in depositos:\n",
    "        if i[\"id\"] == id:\n",
    "            return i\n",
    "\n",
    "get_deposito_id(4)"
   ]
  },
  {
   "cell_type": "code",
   "execution_count": 40,
   "id": "6646fe89",
   "metadata": {},
   "outputs": [
    {
     "data": {
      "text/plain": [
       "[{'id': 1, 'cliente': 'Ana', 'valor': 1500.0, 'data': '2025-07-01'},\n",
       " {'id': 19, 'cliente': 'Ana', 'valor': 1600.0, 'data': '2025-07-19'}]"
      ]
     },
     "execution_count": 40,
     "metadata": {},
     "output_type": "execute_result"
    }
   ],
   "source": [
    "# Resgatar diferentes depositos por nome\n",
    "def get_deposito_nome(nome):\n",
    "    # clientes = [i for i in depositos if i[\"cliente\"] == nome]\n",
    "    # return clients \n",
    "    \n",
    "    clients = []\n",
    "    for i in depositos:\n",
    "        if i[\"cliente\"] == nome:\n",
    "            clients.append(i)\n",
    "\n",
    "    return clients\n",
    "\n",
    "get_deposito_nome(\"Ana\")"
   ]
  },
  {
   "cell_type": "code",
   "execution_count": 41,
   "id": "2510633b",
   "metadata": {},
   "outputs": [
    {
     "data": {
      "text/plain": [
       "[{'id': 2, 'cliente': 'Bruno', 'valor': 250.5, 'data': '2025-07-02'},\n",
       " {'id': 3, 'cliente': 'Carlos', 'valor': 3200.0, 'data': '2025-07-02'},\n",
       " {'id': 4, 'cliente': 'Diana', 'valor': 500.0, 'data': '2025-07-02'},\n",
       " {'id': 5, 'cliente': 'Eduardo', 'valor': 100.0, 'data': '2025-07-02'}]"
      ]
     },
     "execution_count": 41,
     "metadata": {},
     "output_type": "execute_result"
    }
   ],
   "source": [
    "# Resgatar depositos por data\n",
    "def get_deposito_data(data):\n",
    "    datas = []\n",
    "    for i in depositos:\n",
    "        if data in i[\"data\"]:\n",
    "            datas.append(i)\n",
    "\n",
    "    return datas\n",
    "\n",
    "get_deposito_data(\"07-02\")"
   ]
  },
  {
   "cell_type": "markdown",
   "id": "77b2124a",
   "metadata": {},
   "source": [
    "### Crie diferentes funcoes de resgate.\n",
    "\n",
    "- Resgatar de saques o cliente pelo id\n",
    "\n",
    "- Resgatar de saques cliente pelo nome\n",
    "\n",
    "- Resgatar de saques por data\n",
    "\n",
    "- Resgatar todos os saques acima de 200 reais\n",
    "\n",
    "- Resgatar todos os saques igual ou abaixo de 200 reais\n",
    "\n",
    "*Bonus*\n",
    "**- Resgatar todos os saques depois do dia 03 do 07**"
   ]
  },
  {
   "cell_type": "code",
   "execution_count": 42,
   "id": "c2cd16ea",
   "metadata": {},
   "outputs": [],
   "source": [
    "saques = [\n",
    "    {\"id\": 1, \"cliente\": \"Ana\", \"valor\": 300.00, \"data\": \"2025-07-01\"},\n",
    "    {\"id\": 2, \"cliente\": \"Bruno\", \"valor\": 150.00, \"data\": \"2025-07-02\"},\n",
    "    {\"id\": 3, \"cliente\": \"Ana\", \"valor\": 200.00, \"data\": \"2025-07-02\"},\n",
    "    {\"id\": 4, \"cliente\": \"Diana\", \"valor\": 200.00, \"data\": \"2025-07-03\"},\n",
    "    {\"id\": 5, \"cliente\": \"Eduardo\", \"valor\": 50.00, \"data\": \"2025-07-03\"},\n",
    "    {\"id\": 6, \"cliente\": \"Fernanda\", \"valor\": 400.00, \"data\": \"2025-07-04\"},\n",
    "    {\"id\": 7, \"cliente\": \"Gabriel\", \"valor\": 250.00, \"data\": \"2025-07-04\"},\n",
    "    {\"id\": 8, \"cliente\": \"Helena\", \"valor\": 100.00, \"data\": \"2025-07-05\"},\n",
    "    {\"id\": 9, \"cliente\": \"Igor\", \"valor\": 80.00, \"data\": \"2025-07-05\"},\n",
    "    {\"id\": 10, \"cliente\": \"Julia\", \"valor\": 600.00, \"data\": \"2025-07-06\"},\n",
    "    {\"id\": 11, \"cliente\": \"Ana\", \"valor\": 120.00, \"data\": \"2025-07-06\"},\n",
    "    {\"id\": 12, \"cliente\": \"Larissa\", \"valor\": 300.00, \"data\": \"2025-07-07\"},\n",
    "    {\"id\": 13, \"cliente\": \"Marcos\", \"valor\": 200.00, \"data\": \"2025-07-07\"},\n",
    "    {\"id\": 14, \"cliente\": \"Nina\", \"valor\": 350.00, \"data\": \"2025-07-08\"},\n",
    "    {\"id\": 15, \"cliente\": \"Otavio\", \"valor\": 100.00, \"data\": \"2025-07-08\"},\n",
    "    {\"id\": 16, \"cliente\": \"Paula\", \"valor\": 500.00, \"data\": \"2025-07-09\"},\n",
    "    {\"id\": 17, \"cliente\": \"Quintino\", \"valor\": 200.00, \"data\": \"2025-07-09\"},\n",
    "    {\"id\": 18, \"cliente\": \"Rafaela\", \"valor\": 400.00, \"data\": \"2025-07-10\"},\n",
    "    {\"id\": 19, \"cliente\": \"Samuel\", \"valor\": 250.00, \"data\": \"2025-07-10\"},\n",
    "    {\"id\": 20, \"cliente\": \"Tatiane\", \"valor\": 700.00, \"data\": \"2025-07-10\"}\n",
    "]"
   ]
  }
 ],
 "metadata": {
  "kernelspec": {
   "display_name": "Python 3",
   "language": "python",
   "name": "python3"
  },
  "language_info": {
   "codemirror_mode": {
    "name": "ipython",
    "version": 3
   },
   "file_extension": ".py",
   "mimetype": "text/x-python",
   "name": "python",
   "nbconvert_exporter": "python",
   "pygments_lexer": "ipython3",
   "version": "3.13.3"
  }
 },
 "nbformat": 4,
 "nbformat_minor": 5
}
