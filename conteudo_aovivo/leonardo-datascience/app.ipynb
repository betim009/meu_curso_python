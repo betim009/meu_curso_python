{
 "cells": [
  {
   "cell_type": "markdown",
   "id": "13fe140e",
   "metadata": {},
   "source": [
    "### CRUD \n",
    "\n",
    "\n",
    "**Create** - *Criar um dado novo na base de dados.*\n",
    "\n",
    "**Read** - *Resgatar um dado da base de dados.*\n",
    "\n",
    "**Update** - *Alterar um dado especifico da base de dados.*\n",
    "\n",
    "**Delete** - *Excluir um dado especifico da base dados.*\n",
    "\n"
   ]
  },
  {
   "cell_type": "code",
   "execution_count": 23,
   "id": "81880a76",
   "metadata": {},
   "outputs": [],
   "source": [
    "paises = [\n",
    "    {\"id\": 1, \"nome_pais\": \"Brasil\", \"inflacao\": 4.5, \"ano\": 2023},\n",
    "    {\"id\": 2, \"nome_pais\": \"Estados Unidos\", \"inflacao\": 3.2, \"ano\": 2023},\n",
    "    {\"id\": 3, \"nome_pais\": \"Argentina\", \"inflacao\": 94.8, \"ano\": 2023},\n",
    "    {\"id\": 4, \"nome_pais\": \"Alemanha\", \"inflacao\": 2.8, \"ano\": 2023},\n",
    "    {\"id\": 5, \"nome_pais\": \"Japão\", \"inflacao\": 0.9, \"ano\": 2023},\n",
    "    {\"id\": 6, \"nome_pais\": \"Canadá\", \"inflacao\": 3.4, \"ano\": 2023},\n",
    "    {\"id\": 7, \"nome_pais\": \"Reino Unido\", \"inflacao\": 4.0, \"ano\": 2023},\n",
    "    {\"id\": 8, \"nome_pais\": \"Índia\", \"inflacao\": 5.1, \"ano\": 2023},\n",
    "    {\"id\": 9, \"nome_pais\": \"China\", \"inflacao\": 0.2, \"ano\": 2023},\n",
    "    {\"id\": 10, \"nome_pais\": \"Rússia\", \"inflacao\": 7.4, \"ano\": 2023},\n",
    "    {\"id\": 11, \"nome_pais\": \"África do Sul\", \"inflacao\": 6.0, \"ano\": 2023},\n",
    "    {\"id\": 12, \"nome_pais\": \"México\", \"inflacao\": 4.7, \"ano\": 2023},\n",
    "    {\"id\": 13, \"nome_pais\": \"Austrália\", \"inflacao\": 4.1, \"ano\": 2023},\n",
    "    {\"id\": 14, \"nome_pais\": \"França\", \"inflacao\": 4.9, \"ano\": 2023},\n",
    "    {\"id\": 15, \"nome_pais\": \"Itália\", \"inflacao\": 5.3, \"ano\": 2023}\n",
    "]"
   ]
  },
  {
   "cell_type": "markdown",
   "id": "cd4b9a45",
   "metadata": {},
   "source": [
    "### Funcoes do tipo create \n",
    "\n",
    "*O que voce precisa se preocupar?*\n",
    "\n",
    "- Manter o padrao da base de dados. \n",
    "\n",
    "- Partindo desse ponto: Voce deve adicionar um novo dicionario na base de dados.\n",
    "\n",
    "- Alem do dicionario, voce deve manter o padrao das chaves/propriedades.\n",
    "\n",
    "- Nesse caso, deve enviar um dicionario com, id, nome_pais, inflacao e ano.\n",
    "\n",
    "- Alem disso, se responda? posso enviar um mesmo id? o mesmo nome de pais? inflacao pode receber um dado que nao seja um numero? "
   ]
  },
  {
   "cell_type": "code",
   "execution_count": null,
   "id": "691304cb",
   "metadata": {},
   "outputs": [],
   "source": [
    "# VALIDAR PAIS - Middleware(resolver VALIDACOES)\n",
    "def validate_pais(pais):\n",
    "    if type(pais) != dict:\n",
    "        return {\"status\": 400, \"msg\": \"o parametro nao é um dicionario.\"}\n",
    "\n",
    "    if 'id' not in pais and 'nome_pais' not in pais and 'inflacao' not in pais and 'ano' not in pais:\n",
    "        return {\"status\": 400, \"msg\": \"O diconario esta vazio.\"}\n",
    "    \n",
    "    if \"id\" not in pais:\n",
    "        return {\"status\": 400, \"msg\": \"Falta o ID do pais.\"}\n",
    "    \n",
    "    if \"nome_pais\" not in pais:\n",
    "        return {\"status\": 400, \"msg\": \"Falta o NOME do pais.\"}\n",
    "    \n",
    "    if \"inflacao\" not in pais:\n",
    "        return {\"status\": 400, \"msg\": \"Falta o INFLACAO do pais.\"}\n",
    "    \n",
    "    if \"ano\" not in pais:\n",
    "        return {\"status\": 400, \"msg\": \"Falta o ANO do pais.\"}\n",
    "    \n",
    "    return True"
   ]
  },
  {
   "cell_type": "code",
   "execution_count": null,
   "id": "abaa137f",
   "metadata": {},
   "outputs": [],
   "source": [
    "def services_create_pais():\n",
    "    pass"
   ]
  },
  {
   "cell_type": "code",
   "execution_count": null,
   "id": "711cc68d",
   "metadata": {},
   "outputs": [
    {
     "data": {
      "text/plain": [
       "{'status': 400, 'msg': 'Falta o ANO do pais.'}"
      ]
     },
     "execution_count": 28,
     "metadata": {},
     "output_type": "execute_result"
    }
   ],
   "source": [
    "# Criando um pais novo\n",
    "def create_pais(pais):\n",
    "    validando = validate_pais(pais)\n",
    "\n",
    "    if validando[\"status\"] == 400:\n",
    "        return validando\n",
    "    \n",
    "    # SERVICOS - SERVICES \n",
    "    # O SERVICO DEPENDE DAS REGRAS DE NEGOCIO DA SUA BASE DE DADOS\n",
    "\n",
    "    # 1. VERIFICAR ESSE ID JA EXISTE? SIM: 400 - NAO: 200\n",
    "    # 2. ESSE PAIS E ANO JA EXISTEM? SIM: 400 - NAO: 200\n",
    "\n",
    "    paises.append(pais)\n",
    "    return {\"status\": 200, \"msg\": \"Pais cadastrado com sucesso!\"}\n",
    "\n",
    "    \n",
    "create_pais({\"id\": 16, \"nome_pais\": \"Angola\", \"inflacao\": 200, \"ano\": 2023}) # CERTO\n",
    "create_pais({\"id\": 14, \"nome_pais\": \"Brasil\", \"inflacao\": 200, \"ano\": 2023}) # ERRADO\n"
   ]
  }
 ],
 "metadata": {
  "kernelspec": {
   "display_name": "Python 3",
   "language": "python",
   "name": "python3"
  },
  "language_info": {
   "codemirror_mode": {
    "name": "ipython",
    "version": 3
   },
   "file_extension": ".py",
   "mimetype": "text/x-python",
   "name": "python",
   "nbconvert_exporter": "python",
   "pygments_lexer": "ipython3",
   "version": "3.13.3"
  }
 },
 "nbformat": 4,
 "nbformat_minor": 5
}
