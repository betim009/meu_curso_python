{
 "cells": [
  {
   "cell_type": "code",
   "execution_count": 14,
   "metadata": {},
   "outputs": [
    {
     "name": "stdout",
     "output_type": "stream",
     "text": [
      "{'id': 1, 'nome': 'Calabresa', 'preco': 15, 'tamanho': 'G', 'pedacos': 10}\n"
     ]
    }
   ],
   "source": [
    "produtos = {\n",
    "    \"nomes\": [\"Calabresa\", \"Frango\", \"4 queijos\", \"Canadense\", 35],\n",
    "    \"precos\": [15, 15, 15, 20],\n",
    "    \"id:\": [1, 2, 3, 4],\n",
    "    \"tamanho\": ['G', \"G\", \"G\", \"M\"],\n",
    "    \"pedacos\": [10, 10, 10, 6]\n",
    "}\n",
    "\n",
    "pizzas = [\n",
    "    {\"id\": 1, \"nome\": \"Calabresa\", \"preco\": 15, \"tamanho\": \"G\", \"pedacos\": 10},\n",
    "    {\"nome\": \"Frango\", \"preco\": 15},\n",
    "    {\"nome\": \"4 queijos\", \"preco\": 15},\n",
    "    {\"nome\": \"Canadense\", \"preco\": 15},\n",
    "]\n",
    "\n"
   ]
  }
 ],
 "metadata": {
  "kernelspec": {
   "display_name": "Python 3",
   "language": "python",
   "name": "python3"
  },
  "language_info": {
   "codemirror_mode": {
    "name": "ipython",
    "version": 3
   },
   "file_extension": ".py",
   "mimetype": "text/x-python",
   "name": "python",
   "nbconvert_exporter": "python",
   "pygments_lexer": "ipython3",
   "version": "3.13.0"
  }
 },
 "nbformat": 4,
 "nbformat_minor": 2
}
