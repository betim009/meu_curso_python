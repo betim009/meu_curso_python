{
 "cells": [
  {
   "cell_type": "markdown",
   "metadata": {},
   "source": [
    "\"\"\"\n",
    "    Processo de aprender:\n",
    "        VER/APRENDER ALGO\n",
    "\n",
    "        REPETIR\n",
    "        \n",
    "        VER/APRENDER ALGO NOVO\n",
    "        \n",
    "        REPETIR\n",
    "        \n",
    "    \n",
    "    ** Coisas para focar agora\n",
    "    [ ] TIPOS DE DADOS - Array/list -> lista\n",
    "    \n",
    "    [ ] REPETICOES - \n",
    "\"\"\""
   ]
  },
  {
   "cell_type": "code",
   "execution_count": null,
   "metadata": {},
   "outputs": [],
   "source": [
    "# lista de entrada de valores/ preços / dinheiro\n",
    "lista = [420, 123, 312.10, 320.99]  # lista de numeros\n",
    "\n",
    "# Exemplo de dicionário\n",
    "{\n",
    "    \"chave\": \"valor\", \n",
    "    # nome é chave - alberto é valor\n",
    "    \"nome\": \"Alberto\", \n",
    "    # idade é chave - 30 é valor\n",
    "    \"idade\": 30, \n",
    "    \"professor\": True\n",
    "}\n",
    "\n",
    "\n",
    "\n",
    "lista_dicts = [\n",
    "    {\"id\": 1, \"valor\": 420, \"data\": \"29/04\"},  # dicionário\n",
    "    {\"id\": 2, \"valor\": 123, \"data\": \"29/04\"},\n",
    "    {\"id\": 3, \"valor\": 450.99, \"data\": \"29/04\"},   \n",
    "]\n",
    "\n",
    "\n",
    "print(lista) # [420, 123, 312.1, 320.99]\n",
    "print(lista_dicts) # [{'id': 1, 'valor': 420, 'data': '29/04'}, {'id': 2, 'valor': 123, 'data': '29/04'}, {'id': 3, 'valor': 450.99, 'data': '29/04'}]"
   ]
  },
  {
   "cell_type": "code",
   "execution_count": null,
   "metadata": {},
   "outputs": [],
   "source": [
    "print(lista[0])\n",
    "print(lista[1])\n",
    "\n",
    "print(\"--\")\n",
    "\n",
    "print(lista_dicts[0])\n",
    "print(lista_dicts[1])\n",
    "\n",
    "print(\"--\")\n",
    "print(lista_dicts[0][\"data\"])"
   ]
  },
  {
   "cell_type": "code",
   "execution_count": null,
   "metadata": {},
   "outputs": [],
   "source": [
    "# antes do in vai o nome que você quiser / mas por enquanto utilize item\n",
    "# depois do in vai o nome da lista que você deseja percorrer\n",
    "\n",
    "# Errado:\n",
    "# print(lista_dicts[\"data\"])\n",
    "\n",
    "for item in lista_dicts:\n",
    "    print(item) # dicionário\n",
    "    print(item[\"data\"]) # item é cada dicionário\n",
    "    \n",
    "print('---')\n",
    "\n",
    "for item in lista:\n",
    "    print(item)\n",
    "    "
   ]
  }
 ],
 "metadata": {
  "kernelspec": {
   "display_name": "Python 3",
   "language": "python",
   "name": "python3"
  },
  "language_info": {
   "codemirror_mode": {
    "name": "ipython",
    "version": 3
   },
   "file_extension": ".py",
   "mimetype": "text/x-python",
   "name": "python",
   "nbconvert_exporter": "python",
   "pygments_lexer": "ipython3",
   "version": "3.13.0"
  }
 },
 "nbformat": 4,
 "nbformat_minor": 2
}
