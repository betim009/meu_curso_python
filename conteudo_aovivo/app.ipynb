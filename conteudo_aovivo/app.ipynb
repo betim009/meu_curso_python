{
 "cells": [
  {
   "cell_type": "markdown",
   "metadata": {},
   "source": [
    "\"\"\"\n",
    "    Processo de aprender:\n",
    "        VER/APRENDER ALGO\n",
    "\n",
    "        REPETIR\n",
    "        \n",
    "        VER/APRENDER ALGO NOVO\n",
    "        \n",
    "        REPETIR\n",
    "        \n",
    "        \n",
    "    [ ] TERMINAL - \n",
    "    \n",
    "    [ ] TIPOS DE DADOS - \n",
    "    \n",
    "    [ ] REPETICOES - \n",
    "\"\"\""
   ]
  },
  {
   "cell_type": "code",
   "execution_count": 9,
   "metadata": {},
   "outputs": [
    {
     "name": "stdout",
     "output_type": "stream",
     "text": [
      " _   _      _ _             _    _ _               _        _ \n",
      "| | | | ___| | | ___       / \\  | | |__   ___ _ __| |_ ___ | |\n",
      "| |_| |/ _ \\ | |/ _ \\     / _ \\ | | '_ \\ / _ \\ '__| __/ _ \\| |\n",
      "|  _  |  __/ | | (_) |   / ___ \\| | |_) |  __/ |  | || (_) |_|\n",
      "|_| |_|\\___|_|_|\\___( ) /_/   \\_\\_|_.__/ \\___|_|   \\__\\___/(_)\n",
      "                    |/                                        \n",
      "\n"
     ]
    }
   ],
   "source": [
    "import pyfiglet\n",
    "\n",
    "ascii_art = pyfiglet.figlet_format(\"Hello, Alberto!\")\n",
    "print(ascii_art)"
   ]
  }
 ],
 "metadata": {
  "kernelspec": {
   "display_name": "Python 3",
   "language": "python",
   "name": "python3"
  },
  "language_info": {
   "codemirror_mode": {
    "name": "ipython",
    "version": 3
   },
   "file_extension": ".py",
   "mimetype": "text/x-python",
   "name": "python",
   "nbconvert_exporter": "python",
   "pygments_lexer": "ipython3",
   "version": "3.13.0"
  }
 },
 "nbformat": 4,
 "nbformat_minor": 2
}
