{
 "cells": [
  {
   "cell_type": "markdown",
   "id": "c6f5c70d",
   "metadata": {},
   "source": [
    "### Sobre funcoes\n",
    "\n",
    "\n",
    "- **Criada/Definida**\n",
    "\n",
    "- **Executada/chamar**\n",
    "\n",
    "- **Boa pratica funcao ter retorno**\n",
    "\n",
    "- **Boa pratica funcao ter parametro**\n",
    "\n",
    "- **Print nao eh retorno**"
   ]
  },
  {
   "cell_type": "code",
   "execution_count": 11,
   "id": "586ee5b3",
   "metadata": {},
   "outputs": [
    {
     "data": {
      "text/plain": [
       "'Hello Leonardo'"
      ]
     },
     "execution_count": 11,
     "metadata": {},
     "output_type": "execute_result"
    }
   ],
   "source": [
    "def sayHello():\n",
    "    return \"Hello Leonardo\"\n",
    "\n",
    "sayHello()"
   ]
  }
 ],
 "metadata": {
  "kernelspec": {
   "display_name": "Python 3",
   "language": "python",
   "name": "python3"
  },
  "language_info": {
   "codemirror_mode": {
    "name": "ipython",
    "version": 3
   },
   "file_extension": ".py",
   "mimetype": "text/x-python",
   "name": "python",
   "nbconvert_exporter": "python",
   "pygments_lexer": "ipython3",
   "version": "3.13.3"
  }
 },
 "nbformat": 4,
 "nbformat_minor": 5
}
