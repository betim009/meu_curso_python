{
 "cells": [
  {
   "cell_type": "markdown",
   "id": "2b346adf",
   "metadata": {},
   "source": [
    "### Roteiro Clare\n",
    "\n",
    "\n",
    "[] Tipos de dados, com objetivo para estrutura de dados. \n",
    "\n",
    "Lista -> [ ]\n",
    "\n",
    "Dicionario -> { \n",
    "    \"chave\": valor\n",
    "}\n",
    "\n",
    "**Lista de dicionarios**\n",
    "```py\n",
    "[ \n",
    "    {\"produto\": \"Arroz Rei Arthur\", \"preco\": 33.40, \"u_medida\": \"5kg\"},\n",
    "    {\"produto\": \"Cafe 3 coracoes\", \"preco\": 23.40, \"u_medida\": \"500g\"},\n",
    "]\n",
    "```\n",
    "\n",
    "**Dicionario com listas**\n",
    "```py\n",
    "{\n",
    "    \"produtos\": [\"Arroz Rei Arthur\", \"Cafe 3 coracoes\"],\n",
    "    \"precos\": [33.40, 23.40],\n",
    "    \"u_medida\": [\"5kg\", \"500g\"]\n",
    "}\n",
    "```\n",
    "\n",
    "\n",
    "**Como manipular lista e dicionarios?**\n",
    "\n",
    "*Acessar* \n",
    "\n",
    "Acessamos lista pela posicao, indice(index)\n",
    "```py\n",
    "nome_lista[posicao]\n",
    "usuarios[32] # Voce estaria acessando a lista usuarios da posicao 32 equivalente ao 33.\n",
    "```\n",
    "\n",
    "Acessamos dicionarios pelo nome da chave, propriedade. \n",
    "```py\n",
    "nome_dicionario[\"nome_chave\"]\n",
    "usuario[\"email\"] # Acessando o dicionario e sua chave\n",
    "```\n",
    "\n",
    "\n",
    "## Estrutura de repeticao\n",
    "Utiliza for quando possuir lista.\n",
    "\n",
    "Voce vai sempre do primeiro ao ultimo elemento dentro de uma lista. \n",
    "\n",
    "O elemento é o que estiver dentro da lista. "
   ]
  },
  {
   "cell_type": "code",
   "execution_count": 8,
   "id": "8265b155",
   "metadata": {},
   "outputs": [
    {
     "name": "stdout",
     "output_type": "stream",
     "text": [
      "[{'nome': 'Ana Silva', 'idade': 28, 'email': 'ana.silva@email.com'}, {'nome': 'Bruno Silva', 'idade': 35, 'email': 'bruno.silva@email.com'}, {'nome': 'Carla Mendes', 'idade': 22, 'email': 'carla.mendes@email.com'}, {'nome': 'Daniel Rocha', 'idade': 30, 'email': 'daniel.rocha@email.com'}, {'nome': 'Eduarda Lima', 'idade': 26, 'email': 'eduarda.lima@email.com'}]\n"
     ]
    }
   ],
   "source": [
    "usuarios = [\n",
    "    {\"nome\": \"Ana Silva\", \"idade\": 28, \"email\": \"ana.silva@email.com\"},\n",
    "    {\"nome\": \"Bruno Costa\", \"idade\": 34, \"email\": \"bruno.costa@email.com\"},\n",
    "    {\"nome\": \"Carla Mendes\", \"idade\": 22, \"email\": \"carla.mendes@email.com\"},\n",
    "    {\"nome\": \"Daniel Rocha\", \"idade\": 30, \"email\": \"daniel.rocha@email.com\"},\n",
    "    {\"nome\": \"Eduarda Lima\", \"idade\": 26, \"email\": \"eduarda.lima@email.com\"}\n",
    "]\n",
    "\n",
    "### Acessando usuario da segunda posicao\n",
    "usuarios[1]\n",
    "\n",
    "### Podemos acessar para alterar uma informacao\n",
    "usuarios[1] = {\"nome\": \"Bruno Silva\", \"idade\": 34, \"email\": \"bruno.silva@email.com\"}\n",
    "\n",
    "usuarios[1][\"idade\"] = 35\n",
    "\n",
    "# Visualizar a base de dados\n",
    "print(usuarios)"
   ]
  },
  {
   "cell_type": "code",
   "execution_count": 9,
   "id": "064a47bd",
   "metadata": {},
   "outputs": [
    {
     "name": "stdout",
     "output_type": "stream",
     "text": [
      "{'nome': 'Bruno Silva', 'idade': 34, 'email': 'bruno.costa@email.com', 'nome_silva': 'Bruno Silva'}\n"
     ]
    }
   ],
   "source": [
    "usuario = {\n",
    "    \"nome\": \"Bruno Costa\", \"idade\": 34, \"email\": \"bruno.costa@email.com\"\n",
    "}\n",
    "\n",
    "usuario[\"nome\"] = \"Bruno Silva\"\n",
    "usuario[\"nome_silva\"] = \"Bruno Silva\" # Cria uma nova chave, pois nao existia essa chave antes.\n",
    "\n",
    "print(usuario)"
   ]
  },
  {
   "cell_type": "code",
   "execution_count": 16,
   "id": "b6f3b1c1",
   "metadata": {},
   "outputs": [
    {
     "name": "stdout",
     "output_type": "stream",
     "text": [
      "Ana Silva nasceu em: 1997\n",
      "Bruno Costa nasceu em: 1991\n",
      "Carla Mendes nasceu em: 2003\n",
      "Daniel Rocha nasceu em: 1995\n",
      "Eduarda Lima nasceu em: 1999\n",
      "O dobro de 3 é 6\n",
      "O dobro de 10 é 20\n",
      "O dobro de 8 é 16\n",
      "O dobro de 5 é 10\n",
      "O dobro de 8 é 16\n"
     ]
    }
   ],
   "source": [
    "usuarios = [\n",
    "    {\"nome\": \"Ana Silva\", \"idade\": 28, \"email\": \"ana.silva@email.com\"},\n",
    "    {\"nome\": \"Bruno Costa\", \"idade\": 34, \"email\": \"bruno.costa@email.com\"},\n",
    "    {\"nome\": \"Carla Mendes\", \"idade\": 22, \"email\": \"carla.mendes@email.com\"},\n",
    "    {\"nome\": \"Daniel Rocha\", \"idade\": 30, \"email\": \"daniel.rocha@email.com\"},\n",
    "    {\"nome\": \"Eduarda Lima\", \"idade\": 26, \"email\": \"eduarda.lima@email.com\"}\n",
    "]\n",
    "\n",
    "notas = [3, 10, 8, 5, 8]\n",
    "\n",
    "\n",
    "for item in usuarios:\n",
    "    print(f\"{item['nome']} nasceu em: {2025 - item['idade']}\")\n",
    "\n",
    "for item in notas:\n",
    "    print(f\"O dobro de {item} é {item*2}\")"
   ]
  }
 ],
 "metadata": {
  "kernelspec": {
   "display_name": "venv",
   "language": "python",
   "name": "python3"
  },
  "language_info": {
   "codemirror_mode": {
    "name": "ipython",
    "version": 3
   },
   "file_extension": ".py",
   "mimetype": "text/x-python",
   "name": "python",
   "nbconvert_exporter": "python",
   "pygments_lexer": "ipython3",
   "version": "3.13.3"
  }
 },
 "nbformat": 4,
 "nbformat_minor": 5
}
